{
 "cells": [
  {
   "cell_type": "code",
   "execution_count": 1,
   "id": "536cface-4da7-4cec-bb8f-96e336289228",
   "metadata": {},
   "outputs": [
    {
     "data": {
      "application/vnd.jupyter.widget-view+json": {
       "model_id": "6b7716f74f14427aa564bf54f2c2639e",
       "version_major": 2,
       "version_minor": 0
      },
      "text/plain": [
       "Button(button_style='danger', description='Danger Button', style=ButtonStyle())"
      ]
     },
     "execution_count": 1,
     "metadata": {},
     "output_type": "execute_result"
    }
   ],
   "source": [
    "from ipywidgets import Button, Layout\n",
    "\n",
    "Button(description='Danger Button', button_style='danger')"
   ]
  },
  {
   "cell_type": "code",
   "execution_count": 2,
   "id": "362edbde-cab0-4224-a6ff-ea465be32f15",
   "metadata": {},
   "outputs": [
    {
     "data": {
      "application/vnd.jupyter.widget-view+json": {
       "model_id": "01773de9238b4c7ab88c609a287b5edb",
       "version_major": 2,
       "version_minor": 0
      },
      "text/plain": [
       "Button(description='Custom color', style=ButtonStyle(button_color='lightgreen'))"
      ]
     },
     "execution_count": 2,
     "metadata": {},
     "output_type": "execute_result"
    }
   ],
   "source": [
    "b1 = Button(description='Custom color')\n",
    "b1.style.button_color = 'lightgreen'\n",
    "b1\n"
   ]
  },
  {
   "cell_type": "code",
   "execution_count": 3,
   "id": "d6868b03-8d8e-47de-97dd-75541e9bd31c",
   "metadata": {},
   "outputs": [
    {
     "data": {
      "application/vnd.jupyter.widget-view+json": {
       "model_id": "72f7ab5245a3460bad3d90baee73c4c7",
       "version_major": 2,
       "version_minor": 0
      },
      "text/plain": [
       "Button(description='Objectives & Resources', layout=Layout(height='50px', width='200px'), style=ButtonStyle(fo…"
      ]
     },
     "execution_count": 3,
     "metadata": {},
     "output_type": "execute_result"
    }
   ],
   "source": [
    "from ipywidgets import Button, Layout\n",
    "\n",
    "b3 = Button(description='Objectives & Resources', \n",
    "            style=dict(\n",
    "                font_style='normal',\n",
    "                font_weight='bold',\n",
    "                font_variant=\"normal\",\n",
    "                text_color='black',\n",
    "                text_decoration='normal',\n",
    "                width='50%', height='80px'),\n",
    "            layout=Layout(width='200px', height='50px')\n",
    "           )\n",
    "b3"
   ]
  },
  {
   "cell_type": "code",
   "execution_count": 4,
   "id": "d56ba58e-9949-43b9-bbae-4985aec8d057",
   "metadata": {},
   "outputs": [
    {
     "data": {
      "application/vnd.jupyter.widget-view+json": {
       "model_id": "3ec9df80c7624d0491b08a4c962a6abd",
       "version_major": 2,
       "version_minor": 0
      },
      "text/plain": [
       "Button(description='(50% width, 80px height) button', layout=Layout(height='80px', width='50%'), style=ButtonS…"
      ]
     },
     "execution_count": 4,
     "metadata": {},
     "output_type": "execute_result"
    }
   ],
   "source": [
    "b = Button(description='(50% width, 80px height) button',\n",
    "           layout=Layout(width='50%', height='80px'))\n",
    "b"
   ]
  },
  {
   "cell_type": "code",
   "execution_count": null,
   "id": "f57c50ab-5a3b-452e-948d-fc7e7bfbe8f2",
   "metadata": {},
   "outputs": [],
   "source": []
  }
 ],
 "metadata": {
  "kernelspec": {
   "display_name": "Python 3 (ipykernel)",
   "language": "python",
   "name": "python3"
  },
  "language_info": {
   "codemirror_mode": {
    "name": "ipython",
    "version": 3
   },
   "file_extension": ".py",
   "mimetype": "text/x-python",
   "name": "python",
   "nbconvert_exporter": "python",
   "pygments_lexer": "ipython3",
   "version": "3.12.5"
  }
 },
 "nbformat": 4,
 "nbformat_minor": 5
}
