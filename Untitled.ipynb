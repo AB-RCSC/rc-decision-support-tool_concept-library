{
 "cells": [
  {
   "cell_type": "markdown",
   "id": "92efa850-ac28-4955-80ac-5243aa4de1ad",
   "metadata": {},
   "source": [
    "{bdg-primary}`primary`, {bdg-primary-line}`primary-line`"
   ]
  },
  {
   "cell_type": "markdown",
   "id": "9909bc8a-5e78-4860-a5d9-c8ab9b7d4113",
   "metadata": {},
   "source": [
    ":::{button-link} http://www.rc-decision-support-tool.ca/voila/render/objective.ipynb?\n",
    ":color: primary\n",
    ":shadow:\n",
    ":align: center\n",
    "Launch the tool\n",
    ":::"
   ]
  },
  {
   "cell_type": "code",
   "execution_count": 1,
   "id": "b4d305bf-193f-4e32-9363-ce652aeacbd8",
   "metadata": {},
   "outputs": [
    {
     "name": "stdout",
     "output_type": "stream",
     "text": [
      "Requirement already satisfied: sphinx_design in c:\\users\\cassi\\anaconda3\\envs\\rclib\\lib\\site-packages (0.6.1)\n",
      "Requirement already satisfied: sphinx<9,>=6 in c:\\users\\cassi\\anaconda3\\envs\\rclib\\lib\\site-packages (from sphinx_design) (7.4.7)\n",
      "Requirement already satisfied: sphinxcontrib-applehelp in c:\\users\\cassi\\anaconda3\\envs\\rclib\\lib\\site-packages (from sphinx<9,>=6->sphinx_design) (2.0.0)\n",
      "Requirement already satisfied: sphinxcontrib-devhelp in c:\\users\\cassi\\anaconda3\\envs\\rclib\\lib\\site-packages (from sphinx<9,>=6->sphinx_design) (2.0.0)\n",
      "Requirement already satisfied: sphinxcontrib-jsmath in c:\\users\\cassi\\anaconda3\\envs\\rclib\\lib\\site-packages (from sphinx<9,>=6->sphinx_design) (1.0.1)\n",
      "Requirement already satisfied: sphinxcontrib-htmlhelp>=2.0.0 in c:\\users\\cassi\\anaconda3\\envs\\rclib\\lib\\site-packages (from sphinx<9,>=6->sphinx_design) (2.1.0)\n",
      "Requirement already satisfied: sphinxcontrib-serializinghtml>=1.1.9 in c:\\users\\cassi\\anaconda3\\envs\\rclib\\lib\\site-packages (from sphinx<9,>=6->sphinx_design) (2.0.0)\n",
      "Requirement already satisfied: sphinxcontrib-qthelp in c:\\users\\cassi\\anaconda3\\envs\\rclib\\lib\\site-packages (from sphinx<9,>=6->sphinx_design) (2.0.0)\n",
      "Requirement already satisfied: Jinja2>=3.1 in c:\\users\\cassi\\anaconda3\\envs\\rclib\\lib\\site-packages (from sphinx<9,>=6->sphinx_design) (3.1.4)\n",
      "Requirement already satisfied: Pygments>=2.17 in c:\\users\\cassi\\anaconda3\\envs\\rclib\\lib\\site-packages (from sphinx<9,>=6->sphinx_design) (2.18.0)\n",
      "Requirement already satisfied: docutils<0.22,>=0.20 in c:\\users\\cassi\\anaconda3\\envs\\rclib\\lib\\site-packages (from sphinx<9,>=6->sphinx_design) (0.20.1)\n",
      "Requirement already satisfied: snowballstemmer>=2.2 in c:\\users\\cassi\\anaconda3\\envs\\rclib\\lib\\site-packages (from sphinx<9,>=6->sphinx_design) (2.2.0)\n",
      "Requirement already satisfied: babel>=2.13 in c:\\users\\cassi\\anaconda3\\envs\\rclib\\lib\\site-packages (from sphinx<9,>=6->sphinx_design) (2.16.0)\n",
      "Requirement already satisfied: alabaster~=0.7.14 in c:\\users\\cassi\\anaconda3\\envs\\rclib\\lib\\site-packages (from sphinx<9,>=6->sphinx_design) (0.7.16)\n",
      "Requirement already satisfied: imagesize>=1.3 in c:\\users\\cassi\\anaconda3\\envs\\rclib\\lib\\site-packages (from sphinx<9,>=6->sphinx_design) (1.4.1)\n",
      "Requirement already satisfied: requests>=2.30.0 in c:\\users\\cassi\\anaconda3\\envs\\rclib\\lib\\site-packages (from sphinx<9,>=6->sphinx_design) (2.32.3)\n",
      "Requirement already satisfied: packaging>=23.0 in c:\\users\\cassi\\anaconda3\\envs\\rclib\\lib\\site-packages (from sphinx<9,>=6->sphinx_design) (24.1)\n",
      "Requirement already satisfied: colorama>=0.4.6 in c:\\users\\cassi\\anaconda3\\envs\\rclib\\lib\\site-packages (from sphinx<9,>=6->sphinx_design) (0.4.6)\n",
      "Requirement already satisfied: MarkupSafe>=2.0 in c:\\users\\cassi\\anaconda3\\envs\\rclib\\lib\\site-packages (from Jinja2>=3.1->sphinx<9,>=6->sphinx_design) (2.1.3)\n",
      "Requirement already satisfied: charset-normalizer<4,>=2 in c:\\users\\cassi\\anaconda3\\envs\\rclib\\lib\\site-packages (from requests>=2.30.0->sphinx<9,>=6->sphinx_design) (3.3.2)\n",
      "Requirement already satisfied: idna<4,>=2.5 in c:\\users\\cassi\\anaconda3\\envs\\rclib\\lib\\site-packages (from requests>=2.30.0->sphinx<9,>=6->sphinx_design) (3.7)\n",
      "Requirement already satisfied: urllib3<3,>=1.21.1 in c:\\users\\cassi\\anaconda3\\envs\\rclib\\lib\\site-packages (from requests>=2.30.0->sphinx<9,>=6->sphinx_design) (2.2.2)\n",
      "Requirement already satisfied: certifi>=2017.4.17 in c:\\users\\cassi\\anaconda3\\envs\\rclib\\lib\\site-packages (from requests>=2.30.0->sphinx<9,>=6->sphinx_design) (2024.8.30)\n",
      "Note: you may need to restart the kernel to use updated packages.\n"
     ]
    }
   ],
   "source": [
    "pip install sphinx_design"
   ]
  },
  {
   "cell_type": "code",
   "execution_count": null,
   "id": "cfdb9de8-468f-4a16-92a9-f137b471b066",
   "metadata": {},
   "outputs": [],
   "source": []
  }
 ],
 "metadata": {
  "kernelspec": {
   "display_name": "Python 3 (ipykernel)",
   "language": "python",
   "name": "python3"
  },
  "language_info": {
   "codemirror_mode": {
    "name": "ipython",
    "version": 3
   },
   "file_extension": ".py",
   "mimetype": "text/x-python",
   "name": "python",
   "nbconvert_exporter": "python",
   "pygments_lexer": "ipython3",
   "version": "3.12.4"
  }
 },
 "nbformat": 4,
 "nbformat_minor": 5
}
