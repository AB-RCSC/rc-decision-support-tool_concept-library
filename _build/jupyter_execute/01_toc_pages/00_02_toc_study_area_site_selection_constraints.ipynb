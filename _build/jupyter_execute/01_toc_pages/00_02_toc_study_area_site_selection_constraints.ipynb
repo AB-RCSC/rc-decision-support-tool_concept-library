{
 "cells": [
  {
   "cell_type": "markdown",
   "id": "24383de5",
   "metadata": {},
   "source": [
    "(study-area-site-selection-constraints)=\n",
    "# Study area & Site selection\n",
    "\n",
    "::::{grid} 3\n",
    ":gutter: 3\n",
    "\n",
    ":::{grid-item-card} \n",
    ":link: https://ab-rcsc.github.io/rc-decision-support-tool_concept-library/02_dialog-boxes/01_04_study_area_mult.html\n",
    ":img-background: ../03_images/01_ui/background_orange.png\n",
    ":padding: 1\n",
    ":text-align: center\n",
    "\n",
    "*<font color='grey'><font size='3'>{{ title_i_study_area_mult }}</font></font>*\n",
    ":::\n",
    "\n",
    ":::{grid-item-card}\n",
    ":link: https://ab-rcsc.github.io/rc-decision-support-tool_concept-library/02_dialog-boxes/01_05_cam_dens_gradient.html\n",
    ":img-background: ../03_images/01_ui/background_orange.png\n",
    ":padding: 1\n",
    ":text-align: center\n",
    "\n",
    "*<font color='grey'><font size='3'>{{ title_i_cam_dens_gradient }}</font></font>*\n",
    ":::\n",
    "\n",
    ":::{grid-item-card}\n",
    ":link: https://ab-rcsc.github.io/rc-decision-support-tool_concept-library/02_dialog-boxes/01_06_cam_strat_covar.html\n",
    ":img-background: ../03_images/01_ui/background_orange.png\n",
    ":padding: 1\n",
    ":text-align: center\n",
    "\n",
    "**<font size='3'>{{ title_i_cam_strat_covar }}</font></font>**\n",
    ":::\n",
    "::::\n",
    "\n",
    "::::{grid} 3\n",
    ":::{grid-item-card}\n",
    ":link: https://ab-rcsc.github.io/rc-decision-support-tool_concept-library/02_dialog-boxes/01_07_cam_high_dens.html\n",
    ":img-background: ../03_images/01_ui/background_orange.png\n",
    ":padding: 1\n",
    ":text-align: center\n",
    "\n",
    "*<font color='grey'><font size='3'>{{ title_i_cam_high_dens }}</font></font>*\n",
    ":::\n",
    "::::"
   ]
  }
 ],
 "metadata": {
  "editor_options": {
   "markdown": null,
   "wrap": "none"
  },
  "jupytext": {
   "formats": "md:myst",
   "text_representation": {
    "extension": ".md",
    "format_name": "myst",
    "format_version": "1.16",
    "jupytext_version": "1.16.2"
   }
  },
  "kernelspec": {
   "display_name": "Python 3",
   "language": "python",
   "name": "python3"
  },
  "language_info": {
   "codemirror_mode": {
    "name": "ipython",
    "version": 3
   },
   "file_extension": ".py",
   "mimetype": "text/x-python",
   "name": "python",
   "nbconvert_exporter": "python",
   "pygments_lexer": "ipython3",
   "version": "3.12.6"
  },
  "source_map": [
   16
  ]
 },
 "nbformat": 4,
 "nbformat_minor": 5
}