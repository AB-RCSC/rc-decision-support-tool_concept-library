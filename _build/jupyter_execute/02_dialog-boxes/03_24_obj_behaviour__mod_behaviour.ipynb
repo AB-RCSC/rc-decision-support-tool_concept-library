{
 "cells": [
  {
   "cell_type": "markdown",
   "id": "1a431793-cd36-49aa-baf3-1df68ee44842",
   "metadata": {},
   "source": [
    "(i_mod_behaviour)=\n",
    "\n",
    "## {{ name_mod_behaviour }}"
   ]
  },
  {
   "cell_type": "markdown",
   "id": "246dd68a-9703-4037-a0cd-c811fe40c07b",
   "metadata": {},
   "source": [
    "**{{ term_mod_behaviour }}**: {{ term_def_mod_behaviour }}"
   ]
  },
  {
   "cell_type": "markdown",
   "id": "b50af0a5-56ab-4768-b351-be1f6a6a4775",
   "metadata": {},
   "source": [
    ":::::{dropdown} **Assumptions, Pros, Cons**\n",
    "::::{grid} 3\n",
    ":::{grid-item-card}  **Assumptions**\n",
    "\n",
    "-   ddd\n",
    "\n",
    ":::\n",
    ":::{grid-item-card}  **Pros** \n",
    "\n",
    "-   ddd\n",
    "\n",
    ":::\n",
    ":::{grid-item-card}  **Cons**\n",
    "\n",
    "-   ddd\n",
    "\n",
    ":::\n",
    "::::\n",
    ":::::"
   ]
  }
 ],
 "metadata": {
  "kernelspec": {
   "display_name": "Python 3 (ipykernel)",
   "language": "python",
   "name": "python3"
  },
  "language_info": {
   "codemirror_mode": {
    "name": "ipython",
    "version": 3
   },
   "file_extension": ".py",
   "mimetype": "text/x-python",
   "name": "python",
   "nbconvert_exporter": "python",
   "pygments_lexer": "ipython3",
   "version": "3.12.4"
  }
 },
 "nbformat": 4,
 "nbformat_minor": 5
}