{
 "cells": [
  {
   "cell_type": "markdown",
   "id": "dece3600",
   "metadata": {},
   "source": [
    "(data-analysis)=\n",
    "# Data & Analysis\n",
    "\n",
    "::::{grid} 3\n",
    ":gutter: 3\n",
    "\n",
    ":::{grid-item-card} \n",
    ":link: https://ab-rcsc.github.io/rc-decision-support-tool_concept-library/02_dialog-boxes/01_47_cam_independent.html\n",
    ":img-background: ../03_images/01_ui/background_blue2.png\n",
    ":padding: 1\n",
    ":text-align: center\n",
    "\n",
    "**<font size='3'>{{ title_i_cam_independent }}</font></font>**\n",
    ":::\n",
    "\n",
    ":::{grid-item-card}\n",
    ":link: https://ab-rcsc.github.io/rc-decision-support-tool_concept-library/02_dialog-boxes/01_48_multisamp_per_loc.html\n",
    ":img-background: ../03_images/01_ui/background_blue2.png\n",
    ":padding: 1\n",
    ":text-align: center\n",
    "\n",
    "*<font color='grey'><font size='3'>{{ title_i_multisamp_per_loc }}</font></font>*\n",
    ":::\n",
    "\n",
    ":::{grid-item-card}\n",
    ":link: https://ab-rcsc.github.io/rc-decision-support-tool_concept-library/02_dialog-boxes/01_49_modmixed.html\n",
    ":img-background: ../03_images/01_ui/background_blue2.png\n",
    ":padding: 1\n",
    ":text-align: center\n",
    "\n",
    "*<font color='grey'><font size='3'>{{ title_i_modmixed }}</font></font>*\n",
    ":::\n",
    "::::\n",
    "\n",
    "::::{grid} 3\n",
    ":gutter: 3\n",
    "\n",
    ":::{grid-item-card} \n",
    ":link: https://ab-rcsc.github.io/rc-decision-support-tool_concept-library/02_dialog-boxes/01_50_num_det.html\n",
    ":img-background: ../03_images/01_ui/background_blue2.png\n",
    ":padding: 1\n",
    ":text-align: center\n",
    "\n",
    "*<font color='grey'><font size='3'>{{ title_i_num_det }}</font></font>*\n",
    ":::\n",
    "\n",
    ":::{grid-item-card}\n",
    ":link: https://ab-rcsc.github.io/rc-decision-support-tool_concept-library/02_dialog-boxes/01_02_mod_divers_rich.html\n",
    ":img-background: ../03_images/01_ui/background_blue2.png\n",
    ":padding: 1\n",
    ":text-align: center\n",
    "\n",
    "*<font color='grey'><font size='3'>{{ title_i_num_det_individ }}</font></font>*\n",
    ":::\n",
    "\n",
    ":::{grid-item-card}\n",
    ":link: https://ab-rcsc.github.io/rc-decision-support-tool_concept-library/02_dialog-boxes/01_52_num_recap.html\n",
    ":img-background: ../03_images/01_ui/background_blue2.png\n",
    ":padding: 1\n",
    ":text-align: center\n",
    "\n",
    "*<font color='grey'><font size='3'>{{ title_i_num_recap }}</font></font>*\n",
    ":::\n",
    "::::\n",
    "\n",
    "::::{grid} 3\n",
    ":gutter: 3\n",
    "\n",
    ":::{grid-item-card} \n",
    ":link: https://ab-rcsc.github.io/rc-decision-support-tool_concept-library/02_dialog-boxes/01_51_num_det_individ.html\n",
    ":img-background: ../03_images/01_ui/background_blue2.png\n",
    ":padding: 1\n",
    ":text-align: center\n",
    "\n",
    "*<font color='grey'><font size='3'>{{ title_i_overdispersion }}</font></font>* / *<font color='grey'><font size='3'>{{ title_i_zeroinflation }}</font></font>*\n",
    "\n",
    ":::\n",
    "::::"
   ]
  }
 ],
 "metadata": {
  "editor_options": {
   "markdown": null,
   "wrap": "none"
  },
  "jupytext": {
   "formats": "md:myst",
   "text_representation": {
    "extension": ".md",
    "format_name": "myst",
    "format_version": "1.16",
    "jupytext_version": "1.16.1"
   }
  },
  "kernelspec": {
   "display_name": "Python 3",
   "language": "python",
   "name": "python3"
  },
  "language_info": {
   "codemirror_mode": {
    "name": "ipython",
    "version": 3
   },
   "file_extension": ".py",
   "mimetype": "text/x-python",
   "name": "python",
   "nbconvert_exporter": "python",
   "pygments_lexer": "ipython3",
   "version": "3.12.6"
  },
  "source_map": [
   16
  ]
 },
 "nbformat": 4,
 "nbformat_minor": 5
}