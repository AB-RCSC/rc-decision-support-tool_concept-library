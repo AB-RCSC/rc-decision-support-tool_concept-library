{
 "cells": [
  {
   "cell_type": "markdown",
   "id": "1a431793-cd36-49aa-baf3-1df68ee44842",
   "metadata": {},
   "source": [
    "(i_mod_tte)=\n",
    "\n",
    "# {{ name_mod_tte }}"
   ]
  },
  {
   "cell_type": "markdown",
   "id": "62c7894d-554c-45f4-93b0-ed95217576cd",
   "metadata": {},
   "source": [
    "**{{ term_mod_tte }}**: {{ term_def_mod_tte }}"
   ]
  },
  {
   "cell_type": "markdown",
   "id": "b1908918-f542-4ca9-aa14-7ead09f54b32",
   "metadata": {},
   "source": [
    ":::::{dropdown} **Assumptions, Pros, Cons**\n",
    "::::{grid} 3\n",
    ":::{grid-item-card}  **Assumptions**\n",
    "\n",
    "-   ddd\n",
    "\n",
    ":::\n",
    ":::{grid-item-card}  **Pros** \n",
    "\n",
    "-   ddd\n",
    "\n",
    ":::\n",
    ":::{grid-item-card}  **Cons**\n",
    "\n",
    "-   ddd\n",
    "\n",
    ":::\n",
    "::::\n",
    ":::::"
   ]
  }
 ],
 "metadata": {
  "kernelspec": {
   "display_name": "Python 3 (ipykernel)",
   "language": "python",
   "name": "python3"
  },
  "language_info": {
   "codemirror_mode": {
    "name": "ipython",
    "version": 3
   },
   "file_extension": ".py",
   "mimetype": "text/x-python",
   "name": "python",
   "nbconvert_exporter": "python",
   "pygments_lexer": "ipython3",
   "version": "3.12.4"
  }
 },
 "nbformat": 4,
 "nbformat_minor": 5
}