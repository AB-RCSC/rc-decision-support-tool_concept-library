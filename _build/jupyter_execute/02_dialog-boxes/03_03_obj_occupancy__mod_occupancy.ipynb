{
 "cells": [
  {
   "cell_type": "markdown",
   "id": "1a431793-cd36-49aa-baf3-1df68ee44842",
   "metadata": {},
   "source": [
    "(#i_mod_occupancy)=\n",
    "\n",
    "## {{ term_mod_occupancy }}\n",
    "\n",
    "**{{ term_mod_2flankspim }}**: {{ term_def_mod_2flankspim }}"
   ]
  },
  {
   "cell_type": "code",
   "execution_count": null,
   "id": "46df9c34-7308-476c-a6a0-7db016d67c9f",
   "metadata": {},
   "outputs": [],
   "source": []
  }
 ],
 "metadata": {
  "kernelspec": {
   "display_name": "Python 3 (ipykernel)",
   "language": "python",
   "name": "python3"
  },
  "language_info": {
   "codemirror_mode": {
    "name": "ipython",
    "version": 3
   },
   "file_extension": ".py",
   "mimetype": "text/x-python",
   "name": "python",
   "nbconvert_exporter": "python",
   "pygments_lexer": "ipython3",
   "version": "3.12.4"
  }
 },
 "nbformat": 4,
 "nbformat_minor": 5
}