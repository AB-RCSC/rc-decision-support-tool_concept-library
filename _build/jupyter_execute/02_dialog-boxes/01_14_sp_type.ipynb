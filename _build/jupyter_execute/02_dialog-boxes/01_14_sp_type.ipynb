{
 "cells": [
  {
   "cell_type": "markdown",
   "id": "82fe88de",
   "metadata": {},
   "source": [
    "(i_sp_type)=\n",
    "# {{ title_i_sp_type }}\n",
    "\n",
    ":::::::::{div} full-width\n",
    "\n",
    "```{figure} ../03_images/03_image_files/00_coming_soon.png\n",
    ":width: 100%\n",
    ":align: center\n",
    "```\n",
    "\n",
    ":::::::::"
   ]
  }
 ],
 "metadata": {
  "editor_options": {
   "markdown": null,
   "wrap": "none"
  },
  "jupytext": {
   "formats": "md:myst",
   "text_representation": {
    "extension": ".md",
    "format_name": "myst",
    "format_version": "1.16",
    "jupytext_version": "1.16.1"
   }
  },
  "kernelspec": {
   "display_name": "Python 3",
   "language": "python",
   "name": "python3"
  },
  "language_info": {
   "codemirror_mode": {
    "name": "ipython",
    "version": 3
   },
   "file_extension": ".py",
   "mimetype": "text/x-python",
   "name": "python",
   "nbconvert_exporter": "python",
   "pygments_lexer": "ipython3",
   "version": "3.12.6"
  },
  "source_map": [
   16
  ]
 },
 "nbformat": 4,
 "nbformat_minor": 5
}