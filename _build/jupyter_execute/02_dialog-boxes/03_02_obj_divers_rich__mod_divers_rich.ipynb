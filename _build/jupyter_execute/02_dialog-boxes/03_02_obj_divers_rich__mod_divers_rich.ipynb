{
 "cells": [
  {
   "cell_type": "markdown",
   "id": "1a431793-cd36-49aa-baf3-1df68ee44842",
   "metadata": {},
   "source": [
    "(i_mod_divers_rich)=\n",
    "\n",
    "# {{ name_mod_divers_rich }}"
   ]
  },
  {
   "cell_type": "markdown",
   "id": "914fe2b6-19e9-4a2b-83c2-9e5cbc4cbbeb",
   "metadata": {},
   "source": [
    "**{{ term_mod_divers_rich }}**: {{ term_def_mod_divers_rich }}"
   ]
  },
  {
   "cell_type": "markdown",
   "id": "56a3d50f-9ab6-4b1b-8abe-d9186cf88ce1",
   "metadata": {},
   "source": [
    ":::::{dropdown} **Assumptions, Pros, Cons**\n",
    "::::{grid} 3\n",
    ":::{grid-item-card}  **Assumptions**\n",
    "\n",
    "-   No formal [assumptions](#mods_modelling_assumption) {{Wearn & Glover-Kapfer, 2017}}\n",
    "\n",
    ":::\n",
    ":::{grid-item-card}  **Pros** \n",
    "\n",
    "-   Maximum flexibility for study design (e.g., [camera days per camera location](#camera_days_per_camera_location) or use of [lure](#baitlure_lure) {{Rovero et al., 2013; Wearn & Glover-Kapfer, 2017}}\n",
    "\n",
    ":::\n",
    ":::{grid-item-card}  **Cons**\n",
    "\n",
    "-   Not reliable estimates for inference (\"considered as unfinished, working drafts\") {{Wearn & Glover-Kapfer, 2017}}\n",
    "\n",
    ":::\n",
    "::::\n",
    ":::::"
   ]
  }
 ],
 "metadata": {
  "kernelspec": {
   "display_name": "Python 3 (ipykernel)",
   "language": "python",
   "name": "python3"
  },
  "language_info": {
   "codemirror_mode": {
    "name": "ipython",
    "version": 3
   },
   "file_extension": ".py",
   "mimetype": "text/x-python",
   "name": "python",
   "nbconvert_exporter": "python",
   "pygments_lexer": "ipython3",
   "version": "3.12.4"
  }
 },
 "nbformat": 4,
 "nbformat_minor": 5
}