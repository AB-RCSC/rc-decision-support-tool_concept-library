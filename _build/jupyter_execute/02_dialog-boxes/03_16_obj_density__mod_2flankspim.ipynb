{
 "cells": [
  {
   "cell_type": "markdown",
   "id": "1a431793-cd36-49aa-baf3-1df68ee44842",
   "metadata": {},
   "source": [
    "(i_mod_2flankspim)=\n",
    "\n",
    "# {{ name_mod_2flankspim }}"
   ]
  },
  {
   "cell_type": "markdown",
   "id": "55467ead-c70b-4efb-8c2b-f7cfa43dbb9a",
   "metadata": {},
   "source": [
    "**{{ term_mod_2flankspim }}**: {{ term_def_mod_2flankspim }}"
   ]
  },
  {
   "cell_type": "markdown",
   "id": "4d5371cf-8e37-4466-af04-c377a4bdc51e",
   "metadata": {},
   "source": [
    ":::::{dropdown} **Assumptions, Pros, Cons**\n",
    "::::{grid} 3\n",
    ":::{grid-item-card}  **Assumptions**\n",
    "\n",
    "-   ddd\n",
    "\n",
    ":::\n",
    ":::{grid-item-card}  **Pros** \n",
    "\n",
    "-   ddd\n",
    "\n",
    ":::\n",
    ":::{grid-item-card}  **Cons**\n",
    "\n",
    "-   ddd\n",
    "\n",
    ":::\n",
    "::::\n",
    ":::::"
   ]
  }
 ],
 "metadata": {
  "kernelspec": {
   "display_name": "Python 3 (ipykernel)",
   "language": "python",
   "name": "python3"
  },
  "language_info": {
   "codemirror_mode": {
    "name": "ipython",
    "version": 3
   },
   "file_extension": ".py",
   "mimetype": "text/x-python",
   "name": "python",
   "nbconvert_exporter": "python",
   "pygments_lexer": "ipython3",
   "version": "3.12.4"
  }
 },
 "nbformat": 4,
 "nbformat_minor": 5
}