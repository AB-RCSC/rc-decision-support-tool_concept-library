{
 "cells": [
  {
   "cell_type": "markdown",
   "id": "bdf5e32b",
   "metadata": {},
   "source": [
    "<style>\n",
    "    h1 {\n",
    "    font-size: 2rem;font-weight: bold;\n",
    "  }\n",
    "  h2 {\n",
    "    font-size: 1.5rem;\n",
    "    font-weight: bold;\n",
    "    color: #2F5496\n",
    "  }\n",
    "</style>\n",
    ".bd-main .bd-content .bd-article-container {\n",
    "  max-width: 100%;  /* default is 60em */\n",
    "}\n",
    "::::::::{div} full-width\n",
    "(i_objective_resources)=\n",
    "# Objectives & Resources\n",
    "\n",
    "::::{grid} 3\n",
    ":gutter: 3\n",
    "\n",
    ":::{grid-item-card}\n",
    ":link: https://ab-rcsc.github.io/rc-decision-support-tool_concept-library/02_dialog-boxes/01_01_user_entry.html\n",
    ":img-background: ../03_images/01_ui/background_orangelight.png\n",
    ":padding: 1\n",
    ":text-align: center\n",
    "\n",
    "*<font color='grey'><font size='3'>{{ title_i_user_entry }}</font></font>*</font>\n",
    ":::\n",
    "\n",
    ":::{grid-item-card}\n",
    ":link: https://ab-rcsc.github.io/rc-decision-support-tool_concept-library/02_dialog-boxes/01_02_objective.html\n",
    ":img-background: ../03_images/01_ui/background_orangelight.png\n",
    ":padding: 1\n",
    ":text-align: center\n",
    "\n",
    "**<font size='3'>{{ title_i_objective }}</font></font>**\n",
    ":::\n",
    "\n",
    ":::{grid-item-card}\n",
    ":link: https://ab-rcsc.github.io/rc-decision-support-tool_concept-library/02_dialog-boxes/01_03_num_cams.html\n",
    ":img-background: ../03_images/01_ui/background_orangelight.png\n",
    ":padding: 1\n",
    ":text-align: center\n",
    "\n",
    "**<font size='3'>{{ title_i_num_cams }}</font></font>**\n",
    ":::\n",
    "\n",
    "::::\n",
    "\n",
    "::::::::"
   ]
  }
 ],
 "metadata": {
  "editor_options": {
   "markdown": null,
   "wrap": "none"
  },
  "jupytext": {
   "formats": "md:myst",
   "text_representation": {
    "extension": ".md",
    "format_name": "myst",
    "format_version": "1.16",
    "jupytext_version": "1.16.1"
   }
  },
  "kernelspec": {
   "display_name": "Python 3",
   "language": "python",
   "name": "python3"
  },
  "language_info": {
   "codemirror_mode": {
    "name": "ipython",
    "version": 3
   },
   "file_extension": ".py",
   "mimetype": "text/x-python",
   "name": "python",
   "nbconvert_exporter": "python",
   "pygments_lexer": "ipython3",
   "version": "3.12.4"
  },
  "source_map": [
   16
  ]
 },
 "nbformat": 4,
 "nbformat_minor": 5
}