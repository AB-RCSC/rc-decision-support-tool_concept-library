{
 "cells": [
  {
   "cell_type": "markdown",
   "id": "4dea9fce",
   "metadata": {},
   "source": [
    "(references)=\n",
    "# References\n",
    "\n",
    "::::::::{div} style=“text-indent: -36px; padding-left: 36px;”\n",
    "Abolaffio, M., Focardi, S., & Santini, G. (2019). Avoiding misleading messages: Population assessment using camera trapping is not a simple task. *Journal of Animal Ecology, 88*(12), 2011–2016. Medline. <https://doi.org/10.1111/1365-2656.13085>\n",
    "\n",
    "::::::::"
   ]
  }
 ],
 "metadata": {
  "editor_options": {
   "markdown": {
    "wrap": 141
   }
  },
  "jupytext": {
   "formats": "md:myst",
   "text_representation": {
    "extension": ".md",
    "format_name": "myst",
    "format_version": "1.16",
    "jupytext_version": "1.16.1"
   }
  },
  "kernelspec": {
   "display_name": "Python 3",
   "language": "python",
   "name": "python3"
  },
  "language_info": {
   "codemirror_mode": {
    "name": "ipython",
    "version": 3
   },
   "file_extension": ".py",
   "mimetype": "text/x-python",
   "name": "python",
   "nbconvert_exporter": "python",
   "pygments_lexer": "ipython3",
   "version": "3.12.4"
  },
  "source_map": [
   16
  ]
 },
 "nbformat": 4,
 "nbformat_minor": 5
}