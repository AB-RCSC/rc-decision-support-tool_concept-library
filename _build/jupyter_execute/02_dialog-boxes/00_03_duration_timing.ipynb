{
 "cells": [
  {
   "cell_type": "markdown",
   "id": "93ac05d5",
   "metadata": {},
   "source": [
    "<style>\n",
    "    h1 {\n",
    "    font-size: 2rem;font-weight: normal;\n",
    "  }\n",
    "  h2 {\n",
    "    font-size: 1.5rem;\n",
    "    font-weight: bold;\n",
    "    color: #2F5496\n",
    "  }\n",
    "</style>\n",
    "(i_duration_timing)=\n",
    "# Duration & Timing\n",
    "\n",
    "::::{grid} 3\n",
    ":gutter: 3\n",
    "\n",
    ":::{grid-item-card} \n",
    ":link: https://ab-rcsc.github.io/rc-decision-support-tool_concept-library/02_dialog-boxes/01_08_surv_dur_min_max.html\n",
    ":img-background: ../03_images/01_ui/background_orange.png\n",
    ":padding: 1\n",
    ":text-align: center\n",
    "\n",
    "**<font size='3'>{{ title_i_surv_dur_min_max }}</font></font>**\n",
    ":::\n",
    "\n",
    ":::{grid-item-card}\n",
    ":link: https://ab-rcsc.github.io/rc-decision-support-tool_concept-library/02_dialog-boxes/01_10_sp_asymptote.html\n",
    ":img-background: ../03_images/01_ui/background_orange.png\n",
    ":padding: 1\n",
    ":text-align: center\n",
    "\n",
    "**<font size='3'>{{ title_i_sp_asymptote }}</font></font>**\n",
    ":::\n",
    "\n",
    ":::{grid-item-card}\n",
    ":link: https://ab-rcsc.github.io/rc-decision-support-tool_concept-library/02_dialog-boxes/01_11_study_season_num.html\n",
    ":img-background: ../03_images/01_ui/background_orange.png\n",
    ":padding: 1\n",
    ":text-align: center\n",
    "\n",
    "*<font color='grey'><font size='3'>{{ title_i_study_season_num }}</font></font>*\n",
    ":::\n",
    "\n",
    "::::"
   ]
  }
 ],
 "metadata": {
  "editor_options": {
   "markdown": null,
   "wrap": "none"
  },
  "jupytext": {
   "formats": "md:myst",
   "text_representation": {
    "extension": ".md",
    "format_name": "myst",
    "format_version": "1.16",
    "jupytext_version": "1.16.1"
   }
  },
  "kernelspec": {
   "display_name": "Python 3",
   "language": "python",
   "name": "python3"
  },
  "language_info": {
   "codemirror_mode": {
    "name": "ipython",
    "version": 3
   },
   "file_extension": ".py",
   "mimetype": "text/x-python",
   "name": "python",
   "nbconvert_exporter": "python",
   "pygments_lexer": "ipython3",
   "version": "3.12.4"
  },
  "source_map": [
   16
  ]
 },
 "nbformat": 4,
 "nbformat_minor": 5
}