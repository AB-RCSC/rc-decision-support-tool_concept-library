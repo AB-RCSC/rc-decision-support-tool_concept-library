{
 "cells": [
  {
   "cell_type": "markdown",
   "id": "1a431793-cd36-49aa-baf3-1df68ee44842",
   "metadata": {},
   "source": [
    "(#i_mod_is)=\n",
    "\n",
    "## {{ term_mod_is }}\n",
    "\n",
    "**{{ term_mod_tte }}**: {{ term_def_mod_is }}"
   ]
  },
  {
   "cell_type": "code",
   "execution_count": null,
   "id": "2b5efb46-7909-40ef-9d0e-3ccfb6abccc1",
   "metadata": {},
   "outputs": [],
   "source": []
  }
 ],
 "metadata": {
  "kernelspec": {
   "display_name": "Python 3 (ipykernel)",
   "language": "python",
   "name": "python3"
  },
  "language_info": {
   "codemirror_mode": {
    "name": "ipython",
    "version": 3
   },
   "file_extension": ".py",
   "mimetype": "text/x-python",
   "name": "python",
   "nbconvert_exporter": "python",
   "pygments_lexer": "ipython3",
   "version": "3.12.4"
  }
 },
 "nbformat": 4,
 "nbformat_minor": 5
}
