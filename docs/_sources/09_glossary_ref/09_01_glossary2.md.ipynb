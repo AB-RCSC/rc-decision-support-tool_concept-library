{
 "cells": [
  {
   "cell_type": "markdown",
   "id": "73ee47ae-4429-4371-bbdf-424d2af5ade0",
   "metadata": {},
   "source": [
    "(#glossary2)=\n",
    "\n",
    "# Glossary2"
   ]
  },
  {
   "cell_type": "markdown",
   "id": "6e286c77-69fb-4c91-b208-342349f6e260",
   "metadata": {},
   "source": [
    "(#number_of_images)=\n",
    "\n",
    "**\\*# Of Images**\n",
    "\n",
    ": The number of images on an SD card."
   ]
  }
 ],
 "metadata": {
  "kernelspec": {
   "display_name": "Python 3 (ipykernel)",
   "language": "python",
   "name": "python3"
  },
  "language_info": {
   "codemirror_mode": {
    "name": "ipython",
    "version": 3
   },
   "file_extension": ".py",
   "mimetype": "text/x-python",
   "name": "python",
   "nbconvert_exporter": "python",
   "pygments_lexer": "ipython3",
   "version": "3.12.4"
  }
 },
 "nbformat": 4,
 "nbformat_minor": 5
}
