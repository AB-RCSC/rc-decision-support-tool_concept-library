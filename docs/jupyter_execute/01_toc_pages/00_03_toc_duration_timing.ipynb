{
 "cells": [
  {
   "cell_type": "markdown",
   "id": "0da33b6f",
   "metadata": {},
   "source": [
    "  display_name: Python 3 (ipykernel)(i_duration_timing)=\n",
    "# Duration & Timing\n",
    "\n",
    "## Concepts\n",
    "\n",
    "::::{grid} 3\n",
    ":gutter: 3\n",
    "\n",
    ":::{grid-item-card}\n",
    ":link: https://ab-rcsc.github.io/rc-decision-support-tool_concept-library/02_dialog-boxes/02_01_study_area.html\n",
    ":img-background: ../03_images/01_ui/background_orange.png\n",
    ":padding: 1\n",
    ":text-align: center\n",
    "\n",
    "*<font color='grey'><font size='4'>Concepts - Survey duration</font></font>*\n",
    ":::\n",
    "\n",
    ":::{grid-item-card}\n",
    ":link: https://ab-rcsc.github.io/rc-decision-support-tool_concept-library/02_dialog-boxes/03_11_mod_cr_cmr.html\n",
    ":img-background: ../03_images/01_ui/background_orange.png\n",
    ":padding: 1\n",
    ":text-align: center\n",
    "\n",
    "*<font color='grey'><font size='4'>Concepts - Survey duration</font></font>*\n",
    ":::\n",
    "::::\n",
    "\n",
    "::::{grid} 3\n",
    ":gutter: 3\n",
    "\n",
    ":::{grid-item-card} \n",
    ":link: https://ab-rcsc.github.io/rc-decision-support-tool_concept-library/02_dialog-boxes/01_08_surv_dur_min_max.html\n",
    ":img-background: ../03_images/01_ui/background_orange.png\n",
    ":padding: 1\n",
    ":text-align: center\n",
    "\n",
    "**<font size='4'>{{ title_i_surv_dur_min_max }}</font></font>**\n",
    ":::\n",
    "\n",
    ":::{grid-item-card}\n",
    ":link: https://ab-rcsc.github.io/rc-decision-support-tool_concept-library/02_dialog-boxes/01_10_sp_asymptote.html\n",
    ":img-background: ../03_images/01_ui/background_orange.png\n",
    ":padding: 1\n",
    ":text-align: center\n",
    "\n",
    "**<font size='4'>{{ title_i_sp_asymptote }}</font></font>**\n",
    ":::\n",
    "\n",
    ":::{grid-item-card}\n",
    ":link: https://ab-rcsc.github.io/rc-decision-support-tool_concept-library/02_dialog-boxes/01_11_study_season_num.html\n",
    ":img-background: ../03_images/01_ui/background_orange.png\n",
    ":padding: 1\n",
    ":text-align: center\n",
    "\n",
    "*<font color='grey'><font size='4'>{{ title_i_study_season_num }}</font></font>*\n",
    ":::\n",
    "\n",
    "::::"
   ]
  }
 ],
 "metadata": {
  "editor_options": {
   "markdown": null,
   "wrap": "none"
  },
  "jupytext": {
   "formats": "md:myst",
   "text_representation": {
    "extension": ".md",
    "format_name": "myst",
    "format_version": 0.13,
    "jupytext_version": "1.16.4"
   }
  },
  "kernelspec": {
   "display_name": "Python 3",
   "language": "python",
   "name": "python3"
  },
  "language_info": {
   "codemirror_mode": {
    "name": "ipython",
    "version": 3
   },
   "file_extension": ".py",
   "mimetype": "text/x-python",
   "name": "python",
   "nbconvert_exporter": "python",
   "pygments_lexer": "ipython3",
   "version": "3.12.3"
  },
  "source_map": [
   16
  ]
 },
 "nbformat": 4,
 "nbformat_minor": 5
}