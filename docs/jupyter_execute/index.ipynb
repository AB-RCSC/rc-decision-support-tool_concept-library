{
 "cells": [
  {
   "cell_type": "markdown",
   "id": "c79264e7",
   "metadata": {},
   "source": [
    "# Concept Library\n",
    "\n",
    "::::{grid} 3\n",
    ":::{grid-item-card}  **Question info**\n",
    "\n",
    "Question 1\n",
    "\n",
    "Question 2\n",
    "\n",
    "Question 3\n",
    "\n",
    ":::\n",
    ":::{grid-item-card}  **Modelling approaches** \n",
    "\n",
    "Modelling approaches 1\n",
    "\n",
    "Modelling approaches 2\n",
    "\n",
    "Modelling approaches 3\n",
    "\n",
    ":::\n",
    ":::{grid-item-card}  **Other**\n",
    "\n",
    "Other 1\n",
    "\n",
    "Other  2\n",
    "\n",
    "Other  3\n",
    "\n",
    ":::\n",
    "::::\n",
    ":::::\n",
    "\n",
    "```{tableofcontents}\n",
    "```"
   ]
  }
 ],
 "metadata": {
  "editor_options": {
   "markdown": {
    "wrap": "none"
   }
  },
  "jupytext": {
   "formats": "md:myst",
   "text_representation": {
    "extension": ".md",
    "format_name": "myst",
    "format_version": "1.16",
    "jupytext_version": "1.16.1"
   }
  },
  "kernelspec": {
   "display_name": "Python 3",
   "language": "python",
   "name": "python3"
  },
  "language_info": {
   "codemirror_mode": {
    "name": "ipython",
    "version": 3
   },
   "file_extension": ".py",
   "mimetype": "text/x-python",
   "name": "python",
   "nbconvert_exporter": "python",
   "pygments_lexer": "ipython3",
   "version": "3.12.4"
  },
  "source_map": [
   16
  ]
 },
 "nbformat": 4,
 "nbformat_minor": 5
}