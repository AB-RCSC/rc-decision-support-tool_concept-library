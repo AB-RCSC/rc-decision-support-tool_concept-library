{
 "cells": [
  {
   "cell_type": "markdown",
   "id": "aaa67d69",
   "metadata": {},
   "source": [
    "# Objectives & Resources\n",
    "\n",
    ":::::{div} full-width\n",
    "\n",
    "::::{grid} 3\n",
    ":gutter: 3\n",
    "\n",
    ":::{grid-item-card}\n",
    ":link: https://ab-rcsc.github.io/rc-decision-support-tool_concept-library/02_dialog-boxes/01_01_user_entry.html\n",
    ":img-background: ../03_images/01_ui/background_orangelight.png\n",
    ":padding: 1\n",
    ":text-align: center\n",
    "\n",
    "*<font color='grey'><font size='3'>{{ title_i_user_entry }}</font></font>*\n",
    ":::\n",
    "\n",
    ":::{grid-item-card}\n",
    ":link: https://ab-rcsc.github.io/rc-decision-support-tool_concept-library/02_dialog-boxes/01_02_objective.html\n",
    ":img-background: ../03_images/01_ui/background_orangelight.png\n",
    ":padding: 1\n",
    ":text-align: center\n",
    "\n",
    "**<font size='3'>{{ title_i_objective }}</font>**\n",
    ":::\n",
    "\n",
    ":::{grid-item-card}\n",
    ":link: https://ab-rcsc.github.io/rc-decision-support-tool_concept-library/02_dialog-boxes/01_03_num_cams.html\n",
    ":img-background: ../03_images/01_ui/background_orangelight.png\n",
    ":padding: 1\n",
    ":text-align: center\n",
    "\n",
    "**<font size='3'>{{ title_i_num_cams }}</font>**\n",
    ":::\n",
    "\n",
    "::::\n",
    "\n",
    ":::::"
   ]
  }
 ],
 "metadata": {
  "editor_options": {
   "markdown": null,
   "wrap": "none"
  },
  "jupytext": {
   "formats": "md:myst",
   "text_representation": {
    "extension": ".md",
    "format_name": "myst",
    "format_version": "1.16",
    "jupytext_version": "1.16.1"
   }
  },
  "kernelspec": {
   "display_name": "Python 3",
   "language": "python",
   "name": "python3"
  },
  "language_info": {
   "codemirror_mode": {
    "name": "ipython",
    "version": 3
   },
   "file_extension": ".py",
   "mimetype": "text/x-python",
   "name": "python",
   "nbconvert_exporter": "python",
   "pygments_lexer": "ipython3",
   "version": "3.12.6"
  },
  "source_map": [
   16
  ]
 },
 "nbformat": 4,
 "nbformat_minor": 5
}