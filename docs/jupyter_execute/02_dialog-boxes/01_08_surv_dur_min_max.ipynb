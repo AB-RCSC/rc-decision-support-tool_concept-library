{
 "cells": [
  {
   "cell_type": "markdown",
   "id": "38fea511",
   "metadata": {},
   "source": [
    "<style>\n",
    "  h1 {\n",
    "    font-size: 1.5rem;font-weight: bold;\n",
    "  }\n",
    "</style>\n",
    "(i_surv_dur_min_max)=\n",
    "# {{ title_i_surv_dur_min_max }}\n",
    ":::::::::{div} full-width\n",
    "\n",
    "```{figure} ../03_images/03_image_files/00_coming_soon.png\n",
    ":width: 300px\n",
    ":align: center\n",
    "```\n",
    "\n",
    ":::::::::"
   ]
  }
 ],
 "metadata": {
  "editor_options": {
   "markdown": null,
   "wrap": "none"
  },
  "jupytext": {
   "formats": "md:myst",
   "text_representation": {
    "extension": ".md",
    "format_name": "myst",
    "format_version": "1.16",
    "jupytext_version": "1.16.1"
   }
  },
  "kernelspec": {
   "display_name": "Python 3",
   "language": "python",
   "name": "python3"
  },
  "language_info": {
   "codemirror_mode": {
    "name": "ipython",
    "version": 3
   },
   "file_extension": ".py",
   "mimetype": "text/x-python",
   "name": "python",
   "nbconvert_exporter": "python",
   "pygments_lexer": "ipython3",
   "version": "3.12.4"
  },
  "source_map": [
   16
  ]
 },
 "nbformat": 4,
 "nbformat_minor": 5
}