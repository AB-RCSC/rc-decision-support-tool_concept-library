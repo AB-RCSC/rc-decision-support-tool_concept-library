{
 "cells": [
  {
   "cell_type": "markdown",
   "id": "2ebb3976",
   "metadata": {},
   "source": [
    "# Test embed\n",
    "## Welcome to the Remote Camera Decision Support Tool!\n",
    "\n",
    ":::::::::{div} full-width\n",
    "<br>\n",
    "A free, online, interactive, visual study decision support system for remote camera projects\n",
    "\n",
    "::::::{card}\n",
    "<iframe \n",
    "    width=\"100%\"\n",
    "    height=\"1100\"\n",
    "    src=\"http://www.rc-decision-support-tool.ca/voila/render/objective.ipynb?\"\n",
    "    frameborder=\"0\" \n",
    "    allow=\"accelerometer; autoplay; clipboard-write; encrypted-media; gyroscope; picture-in-picture\"\n",
    "    allowfullscreen>\n",
    "</iframe>\n",
    "::::::"
   ]
  }
 ],
 "metadata": {
  "editor_options": {
   "markdown": {
    "wrap": "none"
   }
  },
  "jupytext": {
   "formats": "md:myst",
   "text_representation": {
    "extension": ".md",
    "format_name": "myst",
    "format_version": "1.16",
    "jupytext_version": "1.16.1"
   }
  },
  "kernelspec": {
   "display_name": "Python 3",
   "language": "python",
   "name": "python3"
  },
  "language_info": {
   "codemirror_mode": {
    "name": "ipython",
    "version": 3
   },
   "file_extension": ".py",
   "mimetype": "text/x-python",
   "name": "python",
   "nbconvert_exporter": "python",
   "pygments_lexer": "ipython3",
   "version": "3.12.4"
  },
  "source_map": [
   16
  ]
 },
 "nbformat": 4,
 "nbformat_minor": 5
}