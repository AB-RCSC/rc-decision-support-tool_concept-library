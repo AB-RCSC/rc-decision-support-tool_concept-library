{
 "cells": [
  {
   "cell_type": "code",
   "execution_count": 1,
   "id": "b05ce158-7e49-4269-a742-9d1c1f639f8f",
   "metadata": {},
   "outputs": [
    {
     "name": "stdout",
     "output_type": "stream",
     "text": [
      "Collecting jupytext\n",
      "  Using cached jupytext-1.16.4-py3-none-any.whl.metadata (13 kB)\n",
      "Collecting markdown-it-py>=1.0 (from jupytext)\n",
      "  Using cached markdown_it_py-3.0.0-py3-none-any.whl.metadata (6.9 kB)\n",
      "Collecting mdit-py-plugins (from jupytext)\n",
      "  Using cached mdit_py_plugins-0.4.2-py3-none-any.whl.metadata (2.8 kB)\n",
      "Requirement already satisfied: nbformat in c:\\users\\cassi\\anaconda3\\envs\\rclib\\lib\\site-packages (from jupytext) (5.9.2)\n",
      "Requirement already satisfied: packaging in c:\\users\\cassi\\anaconda3\\envs\\rclib\\lib\\site-packages (from jupytext) (24.1)\n",
      "Requirement already satisfied: pyyaml in c:\\users\\cassi\\anaconda3\\envs\\rclib\\lib\\site-packages (from jupytext) (6.0.1)\n",
      "Collecting mdurl~=0.1 (from markdown-it-py>=1.0->jupytext)\n",
      "  Using cached mdurl-0.1.2-py3-none-any.whl.metadata (1.6 kB)\n",
      "Requirement already satisfied: fastjsonschema in c:\\users\\cassi\\anaconda3\\envs\\rclib\\lib\\site-packages (from nbformat->jupytext) (2.16.2)\n",
      "Requirement already satisfied: jsonschema>=2.6 in c:\\users\\cassi\\anaconda3\\envs\\rclib\\lib\\site-packages (from nbformat->jupytext) (4.19.2)\n",
      "Requirement already satisfied: jupyter-core in c:\\users\\cassi\\anaconda3\\envs\\rclib\\lib\\site-packages (from nbformat->jupytext) (5.7.2)\n",
      "Requirement already satisfied: traitlets>=5.1 in c:\\users\\cassi\\anaconda3\\envs\\rclib\\lib\\site-packages (from nbformat->jupytext) (5.14.3)\n",
      "Requirement already satisfied: attrs>=22.2.0 in c:\\users\\cassi\\anaconda3\\envs\\rclib\\lib\\site-packages (from jsonschema>=2.6->nbformat->jupytext) (23.1.0)\n",
      "Requirement already satisfied: jsonschema-specifications>=2023.03.6 in c:\\users\\cassi\\anaconda3\\envs\\rclib\\lib\\site-packages (from jsonschema>=2.6->nbformat->jupytext) (2023.7.1)\n",
      "Requirement already satisfied: referencing>=0.28.4 in c:\\users\\cassi\\anaconda3\\envs\\rclib\\lib\\site-packages (from jsonschema>=2.6->nbformat->jupytext) (0.30.2)\n",
      "Requirement already satisfied: rpds-py>=0.7.1 in c:\\users\\cassi\\anaconda3\\envs\\rclib\\lib\\site-packages (from jsonschema>=2.6->nbformat->jupytext) (0.10.6)\n",
      "Requirement already satisfied: platformdirs>=2.5 in c:\\users\\cassi\\anaconda3\\envs\\rclib\\lib\\site-packages (from jupyter-core->nbformat->jupytext) (3.10.0)\n",
      "Requirement already satisfied: pywin32>=300 in c:\\users\\cassi\\anaconda3\\envs\\rclib\\lib\\site-packages (from jupyter-core->nbformat->jupytext) (305.1)\n",
      "Using cached jupytext-1.16.4-py3-none-any.whl (153 kB)\n",
      "Using cached markdown_it_py-3.0.0-py3-none-any.whl (87 kB)\n",
      "Using cached mdit_py_plugins-0.4.2-py3-none-any.whl (55 kB)\n",
      "Using cached mdurl-0.1.2-py3-none-any.whl (10.0 kB)\n",
      "Installing collected packages: mdurl, markdown-it-py, mdit-py-plugins, jupytext\n",
      "Successfully installed jupytext-1.16.4 markdown-it-py-3.0.0 mdit-py-plugins-0.4.2 mdurl-0.1.2\n",
      "Note: you may need to restart the kernel to use updated packages.\n"
     ]
    }
   ],
   "source": [
    "pip install jupytext"
   ]
  },
  {
   "cell_type": "code",
   "execution_count": 2,
   "id": "9ab43a05-ec24-474b-9e15-169252e8c51b",
   "metadata": {},
   "outputs": [
    {
     "name": "stdout",
     "output_type": "stream",
     "text": [
      "Requirement already satisfied: myst-parser in c:\\users\\cassi\\anaconda3\\envs\\rclib\\lib\\site-packages (4.0.0)Note: you may need to restart the kernel to use updated packages.\n",
      "\n",
      "Requirement already satisfied: docutils<0.22,>=0.19 in c:\\users\\cassi\\anaconda3\\envs\\rclib\\lib\\site-packages (from myst-parser) (0.21.2)\n",
      "Requirement already satisfied: jinja2 in c:\\users\\cassi\\anaconda3\\envs\\rclib\\lib\\site-packages (from myst-parser) (3.1.4)\n",
      "Requirement already satisfied: markdown-it-py~=3.0 in c:\\users\\cassi\\anaconda3\\envs\\rclib\\lib\\site-packages (from myst-parser) (3.0.0)\n",
      "Requirement already satisfied: mdit-py-plugins>=0.4.1,~=0.4 in c:\\users\\cassi\\anaconda3\\envs\\rclib\\lib\\site-packages (from myst-parser) (0.4.2)\n",
      "Requirement already satisfied: pyyaml in c:\\users\\cassi\\anaconda3\\envs\\rclib\\lib\\site-packages (from myst-parser) (6.0.1)\n",
      "Requirement already satisfied: sphinx<9,>=7 in c:\\users\\cassi\\anaconda3\\envs\\rclib\\lib\\site-packages (from myst-parser) (8.0.2)\n",
      "Requirement already satisfied: mdurl~=0.1 in c:\\users\\cassi\\anaconda3\\envs\\rclib\\lib\\site-packages (from markdown-it-py~=3.0->myst-parser) (0.1.2)\n",
      "Requirement already satisfied: sphinxcontrib-applehelp in c:\\users\\cassi\\anaconda3\\envs\\rclib\\lib\\site-packages (from sphinx<9,>=7->myst-parser) (2.0.0)\n",
      "Requirement already satisfied: sphinxcontrib-devhelp in c:\\users\\cassi\\anaconda3\\envs\\rclib\\lib\\site-packages (from sphinx<9,>=7->myst-parser) (2.0.0)\n",
      "Requirement already satisfied: sphinxcontrib-jsmath in c:\\users\\cassi\\anaconda3\\envs\\rclib\\lib\\site-packages (from sphinx<9,>=7->myst-parser) (1.0.1)\n",
      "Requirement already satisfied: sphinxcontrib-htmlhelp>=2.0.0 in c:\\users\\cassi\\anaconda3\\envs\\rclib\\lib\\site-packages (from sphinx<9,>=7->myst-parser) (2.1.0)\n",
      "Requirement already satisfied: sphinxcontrib-serializinghtml>=1.1.9 in c:\\users\\cassi\\anaconda3\\envs\\rclib\\lib\\site-packages (from sphinx<9,>=7->myst-parser) (2.0.0)\n",
      "Requirement already satisfied: sphinxcontrib-qthelp in c:\\users\\cassi\\anaconda3\\envs\\rclib\\lib\\site-packages (from sphinx<9,>=7->myst-parser) (2.0.0)\n",
      "Requirement already satisfied: Pygments>=2.17 in c:\\users\\cassi\\anaconda3\\envs\\rclib\\lib\\site-packages (from sphinx<9,>=7->myst-parser) (2.18.0)\n",
      "Requirement already satisfied: snowballstemmer>=2.2 in c:\\users\\cassi\\anaconda3\\envs\\rclib\\lib\\site-packages (from sphinx<9,>=7->myst-parser) (2.2.0)\n",
      "Requirement already satisfied: babel>=2.13 in c:\\users\\cassi\\anaconda3\\envs\\rclib\\lib\\site-packages (from sphinx<9,>=7->myst-parser) (2.16.0)\n",
      "Requirement already satisfied: alabaster>=0.7.14 in c:\\users\\cassi\\anaconda3\\envs\\rclib\\lib\\site-packages (from sphinx<9,>=7->myst-parser) (1.0.0)\n",
      "Requirement already satisfied: imagesize>=1.3 in c:\\users\\cassi\\anaconda3\\envs\\rclib\\lib\\site-packages (from sphinx<9,>=7->myst-parser) (1.4.1)\n",
      "Requirement already satisfied: requests>=2.30.0 in c:\\users\\cassi\\anaconda3\\envs\\rclib\\lib\\site-packages (from sphinx<9,>=7->myst-parser) (2.32.3)\n",
      "Requirement already satisfied: packaging>=23.0 in c:\\users\\cassi\\anaconda3\\envs\\rclib\\lib\\site-packages (from sphinx<9,>=7->myst-parser) (24.1)\n",
      "Requirement already satisfied: colorama>=0.4.6 in c:\\users\\cassi\\anaconda3\\envs\\rclib\\lib\\site-packages (from sphinx<9,>=7->myst-parser) (0.4.6)\n",
      "Requirement already satisfied: MarkupSafe>=2.0 in c:\\users\\cassi\\anaconda3\\envs\\rclib\\lib\\site-packages (from jinja2->myst-parser) (2.1.3)\n",
      "Requirement already satisfied: charset-normalizer<4,>=2 in c:\\users\\cassi\\anaconda3\\envs\\rclib\\lib\\site-packages (from requests>=2.30.0->sphinx<9,>=7->myst-parser) (3.3.2)\n",
      "Requirement already satisfied: idna<4,>=2.5 in c:\\users\\cassi\\anaconda3\\envs\\rclib\\lib\\site-packages (from requests>=2.30.0->sphinx<9,>=7->myst-parser) (3.7)\n",
      "Requirement already satisfied: urllib3<3,>=1.21.1 in c:\\users\\cassi\\anaconda3\\envs\\rclib\\lib\\site-packages (from requests>=2.30.0->sphinx<9,>=7->myst-parser) (2.2.2)\n",
      "Requirement already satisfied: certifi>=2017.4.17 in c:\\users\\cassi\\anaconda3\\envs\\rclib\\lib\\site-packages (from requests>=2.30.0->sphinx<9,>=7->myst-parser) (2024.8.30)\n"
     ]
    }
   ],
   "source": [
    "pip install myst-parser"
   ]
  },
  {
   "cell_type": "code",
   "execution_count": 3,
   "id": "aba9cb6b-0fee-4504-a333-a1c6b9bd8005",
   "metadata": {},
   "outputs": [
    {
     "name": "stdout",
     "output_type": "stream",
     "text": [
      "Collecting sphinx-design\n",
      "  Using cached sphinx_design-0.6.1-py3-none-any.whl.metadata (5.5 kB)\n",
      "Requirement already satisfied: sphinx<9,>=6 in c:\\users\\cassi\\anaconda3\\envs\\rclib\\lib\\site-packages (from sphinx-design) (8.0.2)\n",
      "Requirement already satisfied: sphinxcontrib-applehelp in c:\\users\\cassi\\anaconda3\\envs\\rclib\\lib\\site-packages (from sphinx<9,>=6->sphinx-design) (2.0.0)\n",
      "Requirement already satisfied: sphinxcontrib-devhelp in c:\\users\\cassi\\anaconda3\\envs\\rclib\\lib\\site-packages (from sphinx<9,>=6->sphinx-design) (2.0.0)\n",
      "Requirement already satisfied: sphinxcontrib-jsmath in c:\\users\\cassi\\anaconda3\\envs\\rclib\\lib\\site-packages (from sphinx<9,>=6->sphinx-design) (1.0.1)\n",
      "Requirement already satisfied: sphinxcontrib-htmlhelp>=2.0.0 in c:\\users\\cassi\\anaconda3\\envs\\rclib\\lib\\site-packages (from sphinx<9,>=6->sphinx-design) (2.1.0)\n",
      "Requirement already satisfied: sphinxcontrib-serializinghtml>=1.1.9 in c:\\users\\cassi\\anaconda3\\envs\\rclib\\lib\\site-packages (from sphinx<9,>=6->sphinx-design) (2.0.0)\n",
      "Requirement already satisfied: sphinxcontrib-qthelp in c:\\users\\cassi\\anaconda3\\envs\\rclib\\lib\\site-packages (from sphinx<9,>=6->sphinx-design) (2.0.0)\n",
      "Requirement already satisfied: Jinja2>=3.1 in c:\\users\\cassi\\anaconda3\\envs\\rclib\\lib\\site-packages (from sphinx<9,>=6->sphinx-design) (3.1.4)\n",
      "Requirement already satisfied: Pygments>=2.17 in c:\\users\\cassi\\anaconda3\\envs\\rclib\\lib\\site-packages (from sphinx<9,>=6->sphinx-design) (2.18.0)\n",
      "Requirement already satisfied: docutils<0.22,>=0.20 in c:\\users\\cassi\\anaconda3\\envs\\rclib\\lib\\site-packages (from sphinx<9,>=6->sphinx-design) (0.21.2)\n",
      "Requirement already satisfied: snowballstemmer>=2.2 in c:\\users\\cassi\\anaconda3\\envs\\rclib\\lib\\site-packages (from sphinx<9,>=6->sphinx-design) (2.2.0)\n",
      "Requirement already satisfied: babel>=2.13 in c:\\users\\cassi\\anaconda3\\envs\\rclib\\lib\\site-packages (from sphinx<9,>=6->sphinx-design) (2.16.0)\n",
      "Requirement already satisfied: alabaster>=0.7.14 in c:\\users\\cassi\\anaconda3\\envs\\rclib\\lib\\site-packages (from sphinx<9,>=6->sphinx-design) (1.0.0)\n",
      "Requirement already satisfied: imagesize>=1.3 in c:\\users\\cassi\\anaconda3\\envs\\rclib\\lib\\site-packages (from sphinx<9,>=6->sphinx-design) (1.4.1)\n",
      "Requirement already satisfied: requests>=2.30.0 in c:\\users\\cassi\\anaconda3\\envs\\rclib\\lib\\site-packages (from sphinx<9,>=6->sphinx-design) (2.32.3)\n",
      "Requirement already satisfied: packaging>=23.0 in c:\\users\\cassi\\anaconda3\\envs\\rclib\\lib\\site-packages (from sphinx<9,>=6->sphinx-design) (24.1)\n",
      "Requirement already satisfied: colorama>=0.4.6 in c:\\users\\cassi\\anaconda3\\envs\\rclib\\lib\\site-packages (from sphinx<9,>=6->sphinx-design) (0.4.6)\n",
      "Requirement already satisfied: MarkupSafe>=2.0 in c:\\users\\cassi\\anaconda3\\envs\\rclib\\lib\\site-packages (from Jinja2>=3.1->sphinx<9,>=6->sphinx-design) (2.1.3)\n",
      "Requirement already satisfied: charset-normalizer<4,>=2 in c:\\users\\cassi\\anaconda3\\envs\\rclib\\lib\\site-packages (from requests>=2.30.0->sphinx<9,>=6->sphinx-design) (3.3.2)\n",
      "Requirement already satisfied: idna<4,>=2.5 in c:\\users\\cassi\\anaconda3\\envs\\rclib\\lib\\site-packages (from requests>=2.30.0->sphinx<9,>=6->sphinx-design) (3.7)\n",
      "Requirement already satisfied: urllib3<3,>=1.21.1 in c:\\users\\cassi\\anaconda3\\envs\\rclib\\lib\\site-packages (from requests>=2.30.0->sphinx<9,>=6->sphinx-design) (2.2.2)\n",
      "Requirement already satisfied: certifi>=2017.4.17 in c:\\users\\cassi\\anaconda3\\envs\\rclib\\lib\\site-packages (from requests>=2.30.0->sphinx<9,>=6->sphinx-design) (2024.8.30)\n",
      "Using cached sphinx_design-0.6.1-py3-none-any.whl (2.2 MB)\n",
      "Installing collected packages: sphinx-design\n",
      "Successfully installed sphinx-design-0.6.1\n",
      "Note: you may need to restart the kernel to use updated packages.\n"
     ]
    }
   ],
   "source": [
    "pip install sphinx-design"
   ]
  },
  {
   "cell_type": "code",
   "execution_count": 1,
   "id": "52e56387-9d10-4ce3-8adb-e43971daf24c",
   "metadata": {},
   "outputs": [
    {
     "name": "stdout",
     "output_type": "stream",
     "text": [
      "Collecting jupyterlab-myst\n",
      "  Using cached jupyterlab_myst-2.4.2-py3-none-any.whl.metadata (11 kB)\n",
      "Requirement already satisfied: jupyter-server<3,>=2.0.1 in c:\\users\\cassi\\anaconda3\\envs\\rclib\\lib\\site-packages (from jupyterlab-myst) (2.14.1)\n",
      "Requirement already satisfied: anyio>=3.1.0 in c:\\users\\cassi\\anaconda3\\envs\\rclib\\lib\\site-packages (from jupyter-server<3,>=2.0.1->jupyterlab-myst) (4.2.0)\n",
      "Requirement already satisfied: argon2-cffi>=21.1 in c:\\users\\cassi\\anaconda3\\envs\\rclib\\lib\\site-packages (from jupyter-server<3,>=2.0.1->jupyterlab-myst) (21.3.0)\n",
      "Requirement already satisfied: jinja2>=3.0.3 in c:\\users\\cassi\\anaconda3\\envs\\rclib\\lib\\site-packages (from jupyter-server<3,>=2.0.1->jupyterlab-myst) (3.1.4)\n",
      "Requirement already satisfied: jupyter-client>=7.4.4 in c:\\users\\cassi\\anaconda3\\envs\\rclib\\lib\\site-packages (from jupyter-server<3,>=2.0.1->jupyterlab-myst) (8.6.0)\n",
      "Requirement already satisfied: jupyter-core!=5.0.*,>=4.12 in c:\\users\\cassi\\anaconda3\\envs\\rclib\\lib\\site-packages (from jupyter-server<3,>=2.0.1->jupyterlab-myst) (5.7.2)\n",
      "Requirement already satisfied: jupyter-events>=0.9.0 in c:\\users\\cassi\\anaconda3\\envs\\rclib\\lib\\site-packages (from jupyter-server<3,>=2.0.1->jupyterlab-myst) (0.10.0)\n",
      "Requirement already satisfied: jupyter-server-terminals>=0.4.4 in c:\\users\\cassi\\anaconda3\\envs\\rclib\\lib\\site-packages (from jupyter-server<3,>=2.0.1->jupyterlab-myst) (0.4.4)\n",
      "Requirement already satisfied: nbconvert>=6.4.4 in c:\\users\\cassi\\anaconda3\\envs\\rclib\\lib\\site-packages (from jupyter-server<3,>=2.0.1->jupyterlab-myst) (7.10.0)\n",
      "Requirement already satisfied: nbformat>=5.3.0 in c:\\users\\cassi\\anaconda3\\envs\\rclib\\lib\\site-packages (from jupyter-server<3,>=2.0.1->jupyterlab-myst) (5.9.2)\n",
      "Requirement already satisfied: overrides>=5.0 in c:\\users\\cassi\\anaconda3\\envs\\rclib\\lib\\site-packages (from jupyter-server<3,>=2.0.1->jupyterlab-myst) (7.4.0)\n",
      "Requirement already satisfied: packaging>=22.0 in c:\\users\\cassi\\anaconda3\\envs\\rclib\\lib\\site-packages (from jupyter-server<3,>=2.0.1->jupyterlab-myst) (24.1)\n",
      "Requirement already satisfied: prometheus-client>=0.9 in c:\\users\\cassi\\anaconda3\\envs\\rclib\\lib\\site-packages (from jupyter-server<3,>=2.0.1->jupyterlab-myst) (0.14.1)\n",
      "Requirement already satisfied: pywinpty>=2.0.1 in c:\\users\\cassi\\anaconda3\\envs\\rclib\\lib\\site-packages (from jupyter-server<3,>=2.0.1->jupyterlab-myst) (2.0.10)\n",
      "Requirement already satisfied: pyzmq>=24 in c:\\users\\cassi\\anaconda3\\envs\\rclib\\lib\\site-packages (from jupyter-server<3,>=2.0.1->jupyterlab-myst) (25.1.2)\n",
      "Requirement already satisfied: send2trash>=1.8.2 in c:\\users\\cassi\\anaconda3\\envs\\rclib\\lib\\site-packages (from jupyter-server<3,>=2.0.1->jupyterlab-myst) (1.8.2)\n",
      "Requirement already satisfied: terminado>=0.8.3 in c:\\users\\cassi\\anaconda3\\envs\\rclib\\lib\\site-packages (from jupyter-server<3,>=2.0.1->jupyterlab-myst) (0.17.1)\n",
      "Requirement already satisfied: tornado>=6.2.0 in c:\\users\\cassi\\anaconda3\\envs\\rclib\\lib\\site-packages (from jupyter-server<3,>=2.0.1->jupyterlab-myst) (6.4.1)\n",
      "Requirement already satisfied: traitlets>=5.6.0 in c:\\users\\cassi\\anaconda3\\envs\\rclib\\lib\\site-packages (from jupyter-server<3,>=2.0.1->jupyterlab-myst) (5.14.3)\n",
      "Requirement already satisfied: websocket-client>=1.7 in c:\\users\\cassi\\anaconda3\\envs\\rclib\\lib\\site-packages (from jupyter-server<3,>=2.0.1->jupyterlab-myst) (1.8.0)\n",
      "Requirement already satisfied: idna>=2.8 in c:\\users\\cassi\\anaconda3\\envs\\rclib\\lib\\site-packages (from anyio>=3.1.0->jupyter-server<3,>=2.0.1->jupyterlab-myst) (3.7)\n",
      "Requirement already satisfied: sniffio>=1.1 in c:\\users\\cassi\\anaconda3\\envs\\rclib\\lib\\site-packages (from anyio>=3.1.0->jupyter-server<3,>=2.0.1->jupyterlab-myst) (1.3.0)\n",
      "Requirement already satisfied: argon2-cffi-bindings in c:\\users\\cassi\\anaconda3\\envs\\rclib\\lib\\site-packages (from argon2-cffi>=21.1->jupyter-server<3,>=2.0.1->jupyterlab-myst) (21.2.0)\n",
      "Requirement already satisfied: MarkupSafe>=2.0 in c:\\users\\cassi\\anaconda3\\envs\\rclib\\lib\\site-packages (from jinja2>=3.0.3->jupyter-server<3,>=2.0.1->jupyterlab-myst) (2.1.3)\n",
      "Requirement already satisfied: python-dateutil>=2.8.2 in c:\\users\\cassi\\anaconda3\\envs\\rclib\\lib\\site-packages (from jupyter-client>=7.4.4->jupyter-server<3,>=2.0.1->jupyterlab-myst) (2.9.0.post0)\n",
      "Requirement already satisfied: platformdirs>=2.5 in c:\\users\\cassi\\anaconda3\\envs\\rclib\\lib\\site-packages (from jupyter-core!=5.0.*,>=4.12->jupyter-server<3,>=2.0.1->jupyterlab-myst) (3.10.0)\n",
      "Requirement already satisfied: pywin32>=300 in c:\\users\\cassi\\anaconda3\\envs\\rclib\\lib\\site-packages (from jupyter-core!=5.0.*,>=4.12->jupyter-server<3,>=2.0.1->jupyterlab-myst) (305.1)\n",
      "Requirement already satisfied: jsonschema>=4.18.0 in c:\\users\\cassi\\anaconda3\\envs\\rclib\\lib\\site-packages (from jsonschema[format-nongpl]>=4.18.0->jupyter-events>=0.9.0->jupyter-server<3,>=2.0.1->jupyterlab-myst) (4.19.2)\n",
      "Requirement already satisfied: python-json-logger>=2.0.4 in c:\\users\\cassi\\anaconda3\\envs\\rclib\\lib\\site-packages (from jupyter-events>=0.9.0->jupyter-server<3,>=2.0.1->jupyterlab-myst) (2.0.7)\n",
      "Requirement already satisfied: pyyaml>=5.3 in c:\\users\\cassi\\anaconda3\\envs\\rclib\\lib\\site-packages (from jupyter-events>=0.9.0->jupyter-server<3,>=2.0.1->jupyterlab-myst) (6.0.1)\n",
      "Requirement already satisfied: referencing in c:\\users\\cassi\\anaconda3\\envs\\rclib\\lib\\site-packages (from jupyter-events>=0.9.0->jupyter-server<3,>=2.0.1->jupyterlab-myst) (0.30.2)\n",
      "Requirement already satisfied: rfc3339-validator in c:\\users\\cassi\\anaconda3\\envs\\rclib\\lib\\site-packages (from jupyter-events>=0.9.0->jupyter-server<3,>=2.0.1->jupyterlab-myst) (0.1.4)\n",
      "Requirement already satisfied: rfc3986-validator>=0.1.1 in c:\\users\\cassi\\anaconda3\\envs\\rclib\\lib\\site-packages (from jupyter-events>=0.9.0->jupyter-server<3,>=2.0.1->jupyterlab-myst) (0.1.1)\n",
      "Requirement already satisfied: beautifulsoup4 in c:\\users\\cassi\\anaconda3\\envs\\rclib\\lib\\site-packages (from nbconvert>=6.4.4->jupyter-server<3,>=2.0.1->jupyterlab-myst) (4.12.3)\n",
      "Requirement already satisfied: bleach!=5.0.0 in c:\\users\\cassi\\anaconda3\\envs\\rclib\\lib\\site-packages (from nbconvert>=6.4.4->jupyter-server<3,>=2.0.1->jupyterlab-myst) (4.1.0)\n",
      "Requirement already satisfied: defusedxml in c:\\users\\cassi\\anaconda3\\envs\\rclib\\lib\\site-packages (from nbconvert>=6.4.4->jupyter-server<3,>=2.0.1->jupyterlab-myst) (0.7.1)\n",
      "Requirement already satisfied: jupyterlab-pygments in c:\\users\\cassi\\anaconda3\\envs\\rclib\\lib\\site-packages (from nbconvert>=6.4.4->jupyter-server<3,>=2.0.1->jupyterlab-myst) (0.1.2)\n",
      "Requirement already satisfied: mistune<4,>=2.0.3 in c:\\users\\cassi\\anaconda3\\envs\\rclib\\lib\\site-packages (from nbconvert>=6.4.4->jupyter-server<3,>=2.0.1->jupyterlab-myst) (2.0.4)\n",
      "Requirement already satisfied: nbclient>=0.5.0 in c:\\users\\cassi\\anaconda3\\envs\\rclib\\lib\\site-packages (from nbconvert>=6.4.4->jupyter-server<3,>=2.0.1->jupyterlab-myst) (0.8.0)\n",
      "Requirement already satisfied: pandocfilters>=1.4.1 in c:\\users\\cassi\\anaconda3\\envs\\rclib\\lib\\site-packages (from nbconvert>=6.4.4->jupyter-server<3,>=2.0.1->jupyterlab-myst) (1.5.0)\n",
      "Requirement already satisfied: pygments>=2.4.1 in c:\\users\\cassi\\anaconda3\\envs\\rclib\\lib\\site-packages (from nbconvert>=6.4.4->jupyter-server<3,>=2.0.1->jupyterlab-myst) (2.18.0)\n",
      "Requirement already satisfied: tinycss2 in c:\\users\\cassi\\anaconda3\\envs\\rclib\\lib\\site-packages (from nbconvert>=6.4.4->jupyter-server<3,>=2.0.1->jupyterlab-myst) (1.2.1)\n",
      "Requirement already satisfied: fastjsonschema in c:\\users\\cassi\\anaconda3\\envs\\rclib\\lib\\site-packages (from nbformat>=5.3.0->jupyter-server<3,>=2.0.1->jupyterlab-myst) (2.16.2)\n",
      "Requirement already satisfied: six>=1.9.0 in c:\\users\\cassi\\anaconda3\\envs\\rclib\\lib\\site-packages (from bleach!=5.0.0->nbconvert>=6.4.4->jupyter-server<3,>=2.0.1->jupyterlab-myst) (1.16.0)\n",
      "Requirement already satisfied: webencodings in c:\\users\\cassi\\anaconda3\\envs\\rclib\\lib\\site-packages (from bleach!=5.0.0->nbconvert>=6.4.4->jupyter-server<3,>=2.0.1->jupyterlab-myst) (0.5.1)\n",
      "Requirement already satisfied: attrs>=22.2.0 in c:\\users\\cassi\\anaconda3\\envs\\rclib\\lib\\site-packages (from jsonschema>=4.18.0->jsonschema[format-nongpl]>=4.18.0->jupyter-events>=0.9.0->jupyter-server<3,>=2.0.1->jupyterlab-myst) (23.1.0)\n",
      "Requirement already satisfied: jsonschema-specifications>=2023.03.6 in c:\\users\\cassi\\anaconda3\\envs\\rclib\\lib\\site-packages (from jsonschema>=4.18.0->jsonschema[format-nongpl]>=4.18.0->jupyter-events>=0.9.0->jupyter-server<3,>=2.0.1->jupyterlab-myst) (2023.7.1)\n",
      "Requirement already satisfied: rpds-py>=0.7.1 in c:\\users\\cassi\\anaconda3\\envs\\rclib\\lib\\site-packages (from jsonschema>=4.18.0->jsonschema[format-nongpl]>=4.18.0->jupyter-events>=0.9.0->jupyter-server<3,>=2.0.1->jupyterlab-myst) (0.10.6)\n",
      "Collecting fqdn (from jsonschema[format-nongpl]>=4.18.0->jupyter-events>=0.9.0->jupyter-server<3,>=2.0.1->jupyterlab-myst)\n",
      "  Using cached fqdn-1.5.1-py3-none-any.whl.metadata (1.4 kB)\n",
      "Collecting isoduration (from jsonschema[format-nongpl]>=4.18.0->jupyter-events>=0.9.0->jupyter-server<3,>=2.0.1->jupyterlab-myst)\n",
      "  Using cached isoduration-20.11.0-py3-none-any.whl.metadata (5.7 kB)\n",
      "Collecting jsonpointer>1.13 (from jsonschema[format-nongpl]>=4.18.0->jupyter-events>=0.9.0->jupyter-server<3,>=2.0.1->jupyterlab-myst)\n",
      "  Using cached jsonpointer-3.0.0-py2.py3-none-any.whl.metadata (2.3 kB)\n",
      "Collecting uri-template (from jsonschema[format-nongpl]>=4.18.0->jupyter-events>=0.9.0->jupyter-server<3,>=2.0.1->jupyterlab-myst)\n",
      "  Using cached uri_template-1.3.0-py3-none-any.whl.metadata (8.8 kB)\n",
      "Collecting webcolors>=1.11 (from jsonschema[format-nongpl]>=4.18.0->jupyter-events>=0.9.0->jupyter-server<3,>=2.0.1->jupyterlab-myst)\n",
      "  Using cached webcolors-24.8.0-py3-none-any.whl.metadata (2.6 kB)\n",
      "Requirement already satisfied: cffi>=1.0.1 in c:\\users\\cassi\\anaconda3\\envs\\rclib\\lib\\site-packages (from argon2-cffi-bindings->argon2-cffi>=21.1->jupyter-server<3,>=2.0.1->jupyterlab-myst) (1.16.0)\n",
      "Requirement already satisfied: soupsieve>1.2 in c:\\users\\cassi\\anaconda3\\envs\\rclib\\lib\\site-packages (from beautifulsoup4->nbconvert>=6.4.4->jupyter-server<3,>=2.0.1->jupyterlab-myst) (2.5)\n",
      "Requirement already satisfied: pycparser in c:\\users\\cassi\\anaconda3\\envs\\rclib\\lib\\site-packages (from cffi>=1.0.1->argon2-cffi-bindings->argon2-cffi>=21.1->jupyter-server<3,>=2.0.1->jupyterlab-myst) (2.21)\n",
      "Collecting arrow>=0.15.0 (from isoduration->jsonschema[format-nongpl]>=4.18.0->jupyter-events>=0.9.0->jupyter-server<3,>=2.0.1->jupyterlab-myst)\n",
      "  Using cached arrow-1.3.0-py3-none-any.whl.metadata (7.5 kB)\n",
      "Collecting types-python-dateutil>=2.8.10 (from arrow>=0.15.0->isoduration->jsonschema[format-nongpl]>=4.18.0->jupyter-events>=0.9.0->jupyter-server<3,>=2.0.1->jupyterlab-myst)\n",
      "  Using cached types_python_dateutil-2.9.0.20240906-py3-none-any.whl.metadata (1.9 kB)\n",
      "Using cached jupyterlab_myst-2.4.2-py3-none-any.whl (2.7 MB)\n",
      "Using cached jsonpointer-3.0.0-py2.py3-none-any.whl (7.6 kB)\n",
      "Using cached webcolors-24.8.0-py3-none-any.whl (15 kB)\n",
      "Using cached fqdn-1.5.1-py3-none-any.whl (9.1 kB)\n",
      "Using cached isoduration-20.11.0-py3-none-any.whl (11 kB)\n",
      "Using cached uri_template-1.3.0-py3-none-any.whl (11 kB)\n",
      "Using cached arrow-1.3.0-py3-none-any.whl (66 kB)\n",
      "Using cached types_python_dateutil-2.9.0.20240906-py3-none-any.whl (9.7 kB)\n",
      "Installing collected packages: webcolors, uri-template, types-python-dateutil, jsonpointer, fqdn, arrow, isoduration, jupyterlab-myst\n",
      "Successfully installed arrow-1.3.0 fqdn-1.5.1 isoduration-20.11.0 jsonpointer-3.0.0 jupyterlab-myst-2.4.2 types-python-dateutil-2.9.0.20240906 uri-template-1.3.0 webcolors-24.8.0\n",
      "Note: you may need to restart the kernel to use updated packages.\n"
     ]
    }
   ],
   "source": [
    "pip install jupyterlab-myst"
   ]
  },
  {
   "cell_type": "code",
   "execution_count": 3,
   "id": "355b3bc5-24a9-410d-a32e-dec865e6f2f5",
   "metadata": {},
   "outputs": [
    {
     "name": "stdout",
     "output_type": "stream",
     "text": [
      "Note: you may need to restart the kernel to use updated packages.\n"
     ]
    },
    {
     "name": "stderr",
     "output_type": "stream",
     "text": [
      "ERROR: Could not find a version that satisfies the requirement jupyterlab-jupytext (from versions: none)\n",
      "ERROR: No matching distribution found for jupyterlab-jupytext\n"
     ]
    }
   ],
   "source": [
    "pip install jupyterlab-jupytext"
   ]
  },
  {
   "cell_type": "code",
   "execution_count": 7,
   "id": "a920522c-1fb3-4675-ae5b-101212870b80",
   "metadata": {},
   "outputs": [
    {
     "name": "stdout",
     "output_type": "stream",
     "text": [
      "Note: you may need to restart the kernel to use updated packages.\n"
     ]
    },
    {
     "name": "stderr",
     "output_type": "stream",
     "text": [
      "ERROR: Could not find a version that satisfies the requirement jupytext==1.3.11 (from versions: 0.6.1, 0.6.2, 0.6.3, 0.6.4, 0.6.5, 0.7.0rc0, 0.7.0rc1, 0.7.0, 0.7.1, 0.7.2, 0.8.0, 0.8.1, 0.8.2, 0.8.3, 0.8.4rc0, 0.8.4rc1, 0.8.4, 0.8.5, 0.8.6rc0, 0.8.6rc1, 0.8.6, 1.0.0rc0, 1.0.0rc1, 1.0.0rc2, 1.0.0rc3, 1.0.0rc4, 1.0.0rc5, 1.0.0, 1.0.1rc0, 1.0.1, 1.0.2, 1.0.3, 1.0.4, 1.0.5, 1.1.0rc0, 1.1.0rc1, 1.1.0rc2, 1.1.0, 1.1.1, 1.1.2, 1.1.3, 1.1.4rc0, 1.1.4rc1, 1.1.4, 1.1.5, 1.1.6, 1.1.7.dev0, 1.1.7rc0, 1.1.7, 1.2.0rc0, 1.2.0rc1, 1.2.0rc2, 1.2.0rc3, 1.2.0, 1.2.1, 1.2.2, 1.2.3, 1.2.4, 1.3.0rc0, 1.3.0rc1, 1.3.0rc2, 1.3.0, 1.3.1, 1.3.2, 1.3.3, 1.3.4, 1.3.5, 1.4.0, 1.4.1, 1.4.2, 1.5.0rc1, 1.5.0rc2, 1.5.0rc3, 1.5.0rc4, 1.5.0, 1.5.1, 1.5.2, 1.6.0rc0, 1.6.0, 1.7.0rc0, 1.7.0rc1, 1.7.0, 1.7.1, 1.8.0, 1.8.1, 1.8.2, 1.9.0, 1.9.1, 1.10.0, 1.10.1rc0, 1.10.1, 1.10.2rc1, 1.10.2, 1.10.3, 1.11.0, 1.11.1, 1.11.2, 1.11.3, 1.11.4, 1.11.5, 1.12.0, 1.13.0, 1.13.1, 1.13.2, 1.13.3, 1.13.4, 1.13.5, 1.13.6, 1.13.7, 1.13.8, 1.14.0, 1.14.1, 1.14.2, 1.14.3, 1.14.4, 1.14.5, 1.14.6, 1.14.7, 1.15.0.dev1, 1.15.0.dev2, 1.15.0, 1.15.1, 1.15.2, 1.16.0rc0, 1.16.0, 1.16.1, 1.16.2, 1.16.3, 1.16.4)\n",
      "ERROR: No matching distribution found for jupytext==1.3.11\n"
     ]
    }
   ],
   "source": [
    "pip install -U jupytext"
   ]
  },
  {
   "cell_type": "code",
   "execution_count": null,
   "id": "6c1666b6-ed7a-48b7-9547-8c95ac2c6425",
   "metadata": {},
   "outputs": [],
   "source": []
  }
 ],
 "metadata": {
  "jupytext": {
   "formats": "ipynb,md:myst"
  },
  "kernelspec": {
   "display_name": "Python 3 (ipykernel)",
   "language": "python",
   "name": "python3"
  },
  "language_info": {
   "codemirror_mode": {
    "name": "ipython",
    "version": 3
   },
   "file_extension": ".py",
   "mimetype": "text/x-python",
   "name": "python",
   "nbconvert_exporter": "python",
   "pygments_lexer": "ipython3",
   "version": "3.12.5"
  }
 },
 "nbformat": 4,
 "nbformat_minor": 5
}
