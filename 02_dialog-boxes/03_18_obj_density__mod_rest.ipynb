{
 "cells": [
  {
   "cell_type": "markdown",
   "id": "1a431793-cd36-49aa-baf3-1df68ee44842",
   "metadata": {},
   "source": [
    "(i_mod_rest )=\n",
    "\n",
    "# {{ name_mod_rest }}"
   ]
  },
  {
   "cell_type": "markdown",
   "id": "f8f5255e-54fb-438e-836d-1a1ea3558c81",
   "metadata": {},
   "source": [
    "**{{ term_mod_rest  }}**: {{ term_def_mod_rest }}"
   ]
  },
  {
   "cell_type": "markdown",
   "id": "ad5409a5-595a-400c-9d47-20b9a179efc7",
   "metadata": {},
   "source": [
    ":::::{dropdown} **Assumptions, Pros, Cons**\n",
    "::::{grid} 3\n",
    ":::{grid-item-card}  **Assumptions**\n",
    "\n",
    "-   ddd\n",
    "\n",
    ":::\n",
    ":::{grid-item-card}  **Pros** \n",
    "\n",
    "-   ddd\n",
    "\n",
    ":::\n",
    ":::{grid-item-card}  **Cons**\n",
    "\n",
    "-   ddd\n",
    "\n",
    ":::\n",
    "::::\n",
    ":::::"
   ]
  }
 ],
 "metadata": {
  "kernelspec": {
   "display_name": "Python 3 (ipykernel)",
   "language": "python",
   "name": "python3"
  },
  "language_info": {
   "codemirror_mode": {
    "name": "ipython",
    "version": 3
   },
   "file_extension": ".py",
   "mimetype": "text/x-python",
   "name": "python",
   "nbconvert_exporter": "python",
   "pygments_lexer": "ipython3",
   "version": "3.12.4"
  }
 },
 "nbformat": 4,
 "nbformat_minor": 5
}
